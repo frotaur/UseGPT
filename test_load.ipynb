{
 "cells": [
  {
   "cell_type": "code",
   "execution_count": 2,
   "metadata": {},
   "outputs": [
    {
     "name": "stderr",
     "output_type": "stream",
     "text": [
      "/home/vassilis/.penv/lib/python3.12/site-packages/tqdm/auto.py:21: TqdmWarning: IProgress not found. Please update jupyter and ipywidgets. See https://ipywidgets.readthedocs.io/en/stable/user_install.html\n",
      "  from .autonotebook import tqdm as notebook_tqdm\n"
     ]
    }
   ],
   "source": [
    "# way number one\n",
    "from torchenhanced import Trainer\n",
    "from modules import MinGPT\n",
    "\n",
    "# model = Trainer.get_model_from_state(constructor=MinGPT, state_file='/rcp/refinements/runs/Permutations/state/fr_256_fw.state')"
   ]
  },
  {
   "cell_type": "code",
   "execution_count": null,
   "metadata": {},
   "outputs": [
    {
     "name": "stdout",
     "output_type": "stream",
     "text": [
      "MinGPT\n",
      "{'vocab_size': 50257, 'n_layers': 24, 'embed_dim': 1024, 'n_heads': 16, 'attn_length': 256, 'mlp_ratio': 4.0, 'dropout': 0.1, 'embd_dropout': None}\n",
      "odict_keys(['_devtens', 'transformer.token_embedder.weight', 'transformer.position_embedder.weight', 'transformer.h.0._devtens', 'transformer.h.0.ln_1.weight', 'transformer.h.0.ln_1.bias', 'transformer.h.0.attn._devtens', 'transformer.h.0.attn.cant_attend', 'transformer.h.0.attn.attn.in_proj_weight', 'transformer.h.0.attn.attn.in_proj_bias', 'transformer.h.0.attn.attn.out_proj.weight', 'transformer.h.0.attn.attn.out_proj.bias', 'transformer.h.0.ln_2.weight', 'transformer.h.0.ln_2.bias', 'transformer.h.0.mlp.c_fc.weight', 'transformer.h.0.mlp.c_fc.bias', 'transformer.h.0.mlp.c_proj.weight', 'transformer.h.0.mlp.c_proj.bias', 'transformer.h.1._devtens', 'transformer.h.1.ln_1.weight', 'transformer.h.1.ln_1.bias', 'transformer.h.1.attn._devtens', 'transformer.h.1.attn.cant_attend', 'transformer.h.1.attn.attn.in_proj_weight', 'transformer.h.1.attn.attn.in_proj_bias', 'transformer.h.1.attn.attn.out_proj.weight', 'transformer.h.1.attn.attn.out_proj.bias', 'transformer.h.1.ln_2.weight', 'transformer.h.1.ln_2.bias', 'transformer.h.1.mlp.c_fc.weight', 'transformer.h.1.mlp.c_fc.bias', 'transformer.h.1.mlp.c_proj.weight', 'transformer.h.1.mlp.c_proj.bias', 'transformer.h.2._devtens', 'transformer.h.2.ln_1.weight', 'transformer.h.2.ln_1.bias', 'transformer.h.2.attn._devtens', 'transformer.h.2.attn.cant_attend', 'transformer.h.2.attn.attn.in_proj_weight', 'transformer.h.2.attn.attn.in_proj_bias', 'transformer.h.2.attn.attn.out_proj.weight', 'transformer.h.2.attn.attn.out_proj.bias', 'transformer.h.2.ln_2.weight', 'transformer.h.2.ln_2.bias', 'transformer.h.2.mlp.c_fc.weight', 'transformer.h.2.mlp.c_fc.bias', 'transformer.h.2.mlp.c_proj.weight', 'transformer.h.2.mlp.c_proj.bias', 'transformer.h.3._devtens', 'transformer.h.3.ln_1.weight', 'transformer.h.3.ln_1.bias', 'transformer.h.3.attn._devtens', 'transformer.h.3.attn.cant_attend', 'transformer.h.3.attn.attn.in_proj_weight', 'transformer.h.3.attn.attn.in_proj_bias', 'transformer.h.3.attn.attn.out_proj.weight', 'transformer.h.3.attn.attn.out_proj.bias', 'transformer.h.3.ln_2.weight', 'transformer.h.3.ln_2.bias', 'transformer.h.3.mlp.c_fc.weight', 'transformer.h.3.mlp.c_fc.bias', 'transformer.h.3.mlp.c_proj.weight', 'transformer.h.3.mlp.c_proj.bias', 'transformer.h.4._devtens', 'transformer.h.4.ln_1.weight', 'transformer.h.4.ln_1.bias', 'transformer.h.4.attn._devtens', 'transformer.h.4.attn.cant_attend', 'transformer.h.4.attn.attn.in_proj_weight', 'transformer.h.4.attn.attn.in_proj_bias', 'transformer.h.4.attn.attn.out_proj.weight', 'transformer.h.4.attn.attn.out_proj.bias', 'transformer.h.4.ln_2.weight', 'transformer.h.4.ln_2.bias', 'transformer.h.4.mlp.c_fc.weight', 'transformer.h.4.mlp.c_fc.bias', 'transformer.h.4.mlp.c_proj.weight', 'transformer.h.4.mlp.c_proj.bias', 'transformer.h.5._devtens', 'transformer.h.5.ln_1.weight', 'transformer.h.5.ln_1.bias', 'transformer.h.5.attn._devtens', 'transformer.h.5.attn.cant_attend', 'transformer.h.5.attn.attn.in_proj_weight', 'transformer.h.5.attn.attn.in_proj_bias', 'transformer.h.5.attn.attn.out_proj.weight', 'transformer.h.5.attn.attn.out_proj.bias', 'transformer.h.5.ln_2.weight', 'transformer.h.5.ln_2.bias', 'transformer.h.5.mlp.c_fc.weight', 'transformer.h.5.mlp.c_fc.bias', 'transformer.h.5.mlp.c_proj.weight', 'transformer.h.5.mlp.c_proj.bias', 'transformer.h.6._devtens', 'transformer.h.6.ln_1.weight', 'transformer.h.6.ln_1.bias', 'transformer.h.6.attn._devtens', 'transformer.h.6.attn.cant_attend', 'transformer.h.6.attn.attn.in_proj_weight', 'transformer.h.6.attn.attn.in_proj_bias', 'transformer.h.6.attn.attn.out_proj.weight', 'transformer.h.6.attn.attn.out_proj.bias', 'transformer.h.6.ln_2.weight', 'transformer.h.6.ln_2.bias', 'transformer.h.6.mlp.c_fc.weight', 'transformer.h.6.mlp.c_fc.bias', 'transformer.h.6.mlp.c_proj.weight', 'transformer.h.6.mlp.c_proj.bias', 'transformer.h.7._devtens', 'transformer.h.7.ln_1.weight', 'transformer.h.7.ln_1.bias', 'transformer.h.7.attn._devtens', 'transformer.h.7.attn.cant_attend', 'transformer.h.7.attn.attn.in_proj_weight', 'transformer.h.7.attn.attn.in_proj_bias', 'transformer.h.7.attn.attn.out_proj.weight', 'transformer.h.7.attn.attn.out_proj.bias', 'transformer.h.7.ln_2.weight', 'transformer.h.7.ln_2.bias', 'transformer.h.7.mlp.c_fc.weight', 'transformer.h.7.mlp.c_fc.bias', 'transformer.h.7.mlp.c_proj.weight', 'transformer.h.7.mlp.c_proj.bias', 'transformer.h.8._devtens', 'transformer.h.8.ln_1.weight', 'transformer.h.8.ln_1.bias', 'transformer.h.8.attn._devtens', 'transformer.h.8.attn.cant_attend', 'transformer.h.8.attn.attn.in_proj_weight', 'transformer.h.8.attn.attn.in_proj_bias', 'transformer.h.8.attn.attn.out_proj.weight', 'transformer.h.8.attn.attn.out_proj.bias', 'transformer.h.8.ln_2.weight', 'transformer.h.8.ln_2.bias', 'transformer.h.8.mlp.c_fc.weight', 'transformer.h.8.mlp.c_fc.bias', 'transformer.h.8.mlp.c_proj.weight', 'transformer.h.8.mlp.c_proj.bias', 'transformer.h.9._devtens', 'transformer.h.9.ln_1.weight', 'transformer.h.9.ln_1.bias', 'transformer.h.9.attn._devtens', 'transformer.h.9.attn.cant_attend', 'transformer.h.9.attn.attn.in_proj_weight', 'transformer.h.9.attn.attn.in_proj_bias', 'transformer.h.9.attn.attn.out_proj.weight', 'transformer.h.9.attn.attn.out_proj.bias', 'transformer.h.9.ln_2.weight', 'transformer.h.9.ln_2.bias', 'transformer.h.9.mlp.c_fc.weight', 'transformer.h.9.mlp.c_fc.bias', 'transformer.h.9.mlp.c_proj.weight', 'transformer.h.9.mlp.c_proj.bias', 'transformer.h.10._devtens', 'transformer.h.10.ln_1.weight', 'transformer.h.10.ln_1.bias', 'transformer.h.10.attn._devtens', 'transformer.h.10.attn.cant_attend', 'transformer.h.10.attn.attn.in_proj_weight', 'transformer.h.10.attn.attn.in_proj_bias', 'transformer.h.10.attn.attn.out_proj.weight', 'transformer.h.10.attn.attn.out_proj.bias', 'transformer.h.10.ln_2.weight', 'transformer.h.10.ln_2.bias', 'transformer.h.10.mlp.c_fc.weight', 'transformer.h.10.mlp.c_fc.bias', 'transformer.h.10.mlp.c_proj.weight', 'transformer.h.10.mlp.c_proj.bias', 'transformer.h.11._devtens', 'transformer.h.11.ln_1.weight', 'transformer.h.11.ln_1.bias', 'transformer.h.11.attn._devtens', 'transformer.h.11.attn.cant_attend', 'transformer.h.11.attn.attn.in_proj_weight', 'transformer.h.11.attn.attn.in_proj_bias', 'transformer.h.11.attn.attn.out_proj.weight', 'transformer.h.11.attn.attn.out_proj.bias', 'transformer.h.11.ln_2.weight', 'transformer.h.11.ln_2.bias', 'transformer.h.11.mlp.c_fc.weight', 'transformer.h.11.mlp.c_fc.bias', 'transformer.h.11.mlp.c_proj.weight', 'transformer.h.11.mlp.c_proj.bias', 'transformer.h.12._devtens', 'transformer.h.12.ln_1.weight', 'transformer.h.12.ln_1.bias', 'transformer.h.12.attn._devtens', 'transformer.h.12.attn.cant_attend', 'transformer.h.12.attn.attn.in_proj_weight', 'transformer.h.12.attn.attn.in_proj_bias', 'transformer.h.12.attn.attn.out_proj.weight', 'transformer.h.12.attn.attn.out_proj.bias', 'transformer.h.12.ln_2.weight', 'transformer.h.12.ln_2.bias', 'transformer.h.12.mlp.c_fc.weight', 'transformer.h.12.mlp.c_fc.bias', 'transformer.h.12.mlp.c_proj.weight', 'transformer.h.12.mlp.c_proj.bias', 'transformer.h.13._devtens', 'transformer.h.13.ln_1.weight', 'transformer.h.13.ln_1.bias', 'transformer.h.13.attn._devtens', 'transformer.h.13.attn.cant_attend', 'transformer.h.13.attn.attn.in_proj_weight', 'transformer.h.13.attn.attn.in_proj_bias', 'transformer.h.13.attn.attn.out_proj.weight', 'transformer.h.13.attn.attn.out_proj.bias', 'transformer.h.13.ln_2.weight', 'transformer.h.13.ln_2.bias', 'transformer.h.13.mlp.c_fc.weight', 'transformer.h.13.mlp.c_fc.bias', 'transformer.h.13.mlp.c_proj.weight', 'transformer.h.13.mlp.c_proj.bias', 'transformer.h.14._devtens', 'transformer.h.14.ln_1.weight', 'transformer.h.14.ln_1.bias', 'transformer.h.14.attn._devtens', 'transformer.h.14.attn.cant_attend', 'transformer.h.14.attn.attn.in_proj_weight', 'transformer.h.14.attn.attn.in_proj_bias', 'transformer.h.14.attn.attn.out_proj.weight', 'transformer.h.14.attn.attn.out_proj.bias', 'transformer.h.14.ln_2.weight', 'transformer.h.14.ln_2.bias', 'transformer.h.14.mlp.c_fc.weight', 'transformer.h.14.mlp.c_fc.bias', 'transformer.h.14.mlp.c_proj.weight', 'transformer.h.14.mlp.c_proj.bias', 'transformer.h.15._devtens', 'transformer.h.15.ln_1.weight', 'transformer.h.15.ln_1.bias', 'transformer.h.15.attn._devtens', 'transformer.h.15.attn.cant_attend', 'transformer.h.15.attn.attn.in_proj_weight', 'transformer.h.15.attn.attn.in_proj_bias', 'transformer.h.15.attn.attn.out_proj.weight', 'transformer.h.15.attn.attn.out_proj.bias', 'transformer.h.15.ln_2.weight', 'transformer.h.15.ln_2.bias', 'transformer.h.15.mlp.c_fc.weight', 'transformer.h.15.mlp.c_fc.bias', 'transformer.h.15.mlp.c_proj.weight', 'transformer.h.15.mlp.c_proj.bias', 'transformer.h.16._devtens', 'transformer.h.16.ln_1.weight', 'transformer.h.16.ln_1.bias', 'transformer.h.16.attn._devtens', 'transformer.h.16.attn.cant_attend', 'transformer.h.16.attn.attn.in_proj_weight', 'transformer.h.16.attn.attn.in_proj_bias', 'transformer.h.16.attn.attn.out_proj.weight', 'transformer.h.16.attn.attn.out_proj.bias', 'transformer.h.16.ln_2.weight', 'transformer.h.16.ln_2.bias', 'transformer.h.16.mlp.c_fc.weight', 'transformer.h.16.mlp.c_fc.bias', 'transformer.h.16.mlp.c_proj.weight', 'transformer.h.16.mlp.c_proj.bias', 'transformer.h.17._devtens', 'transformer.h.17.ln_1.weight', 'transformer.h.17.ln_1.bias', 'transformer.h.17.attn._devtens', 'transformer.h.17.attn.cant_attend', 'transformer.h.17.attn.attn.in_proj_weight', 'transformer.h.17.attn.attn.in_proj_bias', 'transformer.h.17.attn.attn.out_proj.weight', 'transformer.h.17.attn.attn.out_proj.bias', 'transformer.h.17.ln_2.weight', 'transformer.h.17.ln_2.bias', 'transformer.h.17.mlp.c_fc.weight', 'transformer.h.17.mlp.c_fc.bias', 'transformer.h.17.mlp.c_proj.weight', 'transformer.h.17.mlp.c_proj.bias', 'transformer.h.18._devtens', 'transformer.h.18.ln_1.weight', 'transformer.h.18.ln_1.bias', 'transformer.h.18.attn._devtens', 'transformer.h.18.attn.cant_attend', 'transformer.h.18.attn.attn.in_proj_weight', 'transformer.h.18.attn.attn.in_proj_bias', 'transformer.h.18.attn.attn.out_proj.weight', 'transformer.h.18.attn.attn.out_proj.bias', 'transformer.h.18.ln_2.weight', 'transformer.h.18.ln_2.bias', 'transformer.h.18.mlp.c_fc.weight', 'transformer.h.18.mlp.c_fc.bias', 'transformer.h.18.mlp.c_proj.weight', 'transformer.h.18.mlp.c_proj.bias', 'transformer.h.19._devtens', 'transformer.h.19.ln_1.weight', 'transformer.h.19.ln_1.bias', 'transformer.h.19.attn._devtens', 'transformer.h.19.attn.cant_attend', 'transformer.h.19.attn.attn.in_proj_weight', 'transformer.h.19.attn.attn.in_proj_bias', 'transformer.h.19.attn.attn.out_proj.weight', 'transformer.h.19.attn.attn.out_proj.bias', 'transformer.h.19.ln_2.weight', 'transformer.h.19.ln_2.bias', 'transformer.h.19.mlp.c_fc.weight', 'transformer.h.19.mlp.c_fc.bias', 'transformer.h.19.mlp.c_proj.weight', 'transformer.h.19.mlp.c_proj.bias', 'transformer.h.20._devtens', 'transformer.h.20.ln_1.weight', 'transformer.h.20.ln_1.bias', 'transformer.h.20.attn._devtens', 'transformer.h.20.attn.cant_attend', 'transformer.h.20.attn.attn.in_proj_weight', 'transformer.h.20.attn.attn.in_proj_bias', 'transformer.h.20.attn.attn.out_proj.weight', 'transformer.h.20.attn.attn.out_proj.bias', 'transformer.h.20.ln_2.weight', 'transformer.h.20.ln_2.bias', 'transformer.h.20.mlp.c_fc.weight', 'transformer.h.20.mlp.c_fc.bias', 'transformer.h.20.mlp.c_proj.weight', 'transformer.h.20.mlp.c_proj.bias', 'transformer.h.21._devtens', 'transformer.h.21.ln_1.weight', 'transformer.h.21.ln_1.bias', 'transformer.h.21.attn._devtens', 'transformer.h.21.attn.cant_attend', 'transformer.h.21.attn.attn.in_proj_weight', 'transformer.h.21.attn.attn.in_proj_bias', 'transformer.h.21.attn.attn.out_proj.weight', 'transformer.h.21.attn.attn.out_proj.bias', 'transformer.h.21.ln_2.weight', 'transformer.h.21.ln_2.bias', 'transformer.h.21.mlp.c_fc.weight', 'transformer.h.21.mlp.c_fc.bias', 'transformer.h.21.mlp.c_proj.weight', 'transformer.h.21.mlp.c_proj.bias', 'transformer.h.22._devtens', 'transformer.h.22.ln_1.weight', 'transformer.h.22.ln_1.bias', 'transformer.h.22.attn._devtens', 'transformer.h.22.attn.cant_attend', 'transformer.h.22.attn.attn.in_proj_weight', 'transformer.h.22.attn.attn.in_proj_bias', 'transformer.h.22.attn.attn.out_proj.weight', 'transformer.h.22.attn.attn.out_proj.bias', 'transformer.h.22.ln_2.weight', 'transformer.h.22.ln_2.bias', 'transformer.h.22.mlp.c_fc.weight', 'transformer.h.22.mlp.c_fc.bias', 'transformer.h.22.mlp.c_proj.weight', 'transformer.h.22.mlp.c_proj.bias', 'transformer.h.23._devtens', 'transformer.h.23.ln_1.weight', 'transformer.h.23.ln_1.bias', 'transformer.h.23.attn._devtens', 'transformer.h.23.attn.cant_attend', 'transformer.h.23.attn.attn.in_proj_weight', 'transformer.h.23.attn.attn.in_proj_bias', 'transformer.h.23.attn.attn.out_proj.weight', 'transformer.h.23.attn.attn.out_proj.bias', 'transformer.h.23.ln_2.weight', 'transformer.h.23.ln_2.bias', 'transformer.h.23.mlp.c_fc.weight', 'transformer.h.23.mlp.c_fc.bias', 'transformer.h.23.mlp.c_proj.weight', 'transformer.h.23.mlp.c_proj.bias', 'transformer.ln_f.weight', 'transformer.ln_f.bias', 'lm_head.weight'])\n"
     ]
    }
   ],
   "source": [
    "# Getting model, config and weights\n",
    "\n",
    "model_name, config, weights = Trainer.model_config_from_state(state_path='/rcp/refinements/runs/Permutations/state/fr_256_fw.state',device='cpu')\n",
    "\n",
    "print(model_name)\n",
    "print(config)"
   ]
  },
  {
   "cell_type": "code",
   "execution_count": null,
   "metadata": {},
   "outputs": [],
   "source": []
  }
 ],
 "metadata": {
  "kernelspec": {
   "display_name": ".penv",
   "language": "python",
   "name": "python3"
  },
  "language_info": {
   "codemirror_mode": {
    "name": "ipython",
    "version": 3
   },
   "file_extension": ".py",
   "mimetype": "text/x-python",
   "name": "python",
   "nbconvert_exporter": "python",
   "pygments_lexer": "ipython3",
   "version": "3.12.7"
  }
 },
 "nbformat": 4,
 "nbformat_minor": 2
}
